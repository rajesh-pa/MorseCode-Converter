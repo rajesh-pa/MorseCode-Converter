{
 "cells": [
  {
   "cell_type": "code",
   "execution_count": 1,
   "metadata": {},
   "outputs": [],
   "source": [
    "# Dictionary representing the morse code chart \n",
    "MorseCode_Dict = { 'A':'.-', 'B':'-...', 'C':'-.-.', 'D':'-..', 'E':'.', 'F':'..-.', 'G':'--.', 'H':'....', 'I':'..', \n",
    "                   'J':'.---', 'K':'-.-', 'L':'.-..', 'M':'--', 'N':'-.', 'O':'---', 'P':'.--.', 'Q':'--.-', 'R':'.-.', \n",
    "                   'S':'...', 'T':'-', 'U':'..-', 'V':'...-', 'W':'.--', 'X':'-..-', 'Y':'-.--', 'Z':'--..', \n",
    "                   '1':'.----', '2':'..---', '3':'...--', '4':'....-', '5':'.....', '6':'-....', \n",
    "                   '7':'--...', '8':'---..', '9':'----.', '0':'-----'} "
   ]
  },
  {
   "cell_type": "code",
   "execution_count": 2,
   "metadata": {},
   "outputs": [],
   "source": [
    "# Function to convert the text to morse code \n",
    "def encode(text): \n",
    "    cypherText = '' \n",
    "    for value in text: \n",
    "        \n",
    "        if value != ' ':  \n",
    "            # Checks for the respective morse code of the value in the dictionary  \n",
    "            cypherText += MorseCode_Dict[value] + ' '\n",
    "            \n",
    "        else: \n",
    "            # Space between words\n",
    "            cypherText += ' '\n",
    "  \n",
    "    return cypherText \n",
    "  \n",
    "# Function to convert morse code to text \n",
    "def decode(text): \n",
    "  \n",
    "    # An extra space to identify next word's morse code \n",
    "    text += ' '\n",
    "  \n",
    "    decypherText = '' \n",
    "    Temp = '' \n",
    "    for value in text: \n",
    "   \n",
    "        if (value != ' '): \n",
    "            # flag to track the number of spaces \n",
    "            flag = 0\n",
    "            # To store single characters morse code \n",
    "            Temp += value \n",
    "  \n",
    "        else:  \n",
    "            # When a space is encountered flag is increased\n",
    "            flag += 1\n",
    "   \n",
    "            if flag == 2 :   \n",
    "                 # flag becomes 2 when 2 space is encountered togther i.e., end-of-line \n",
    "                decypherText += ' '\n",
    "                \n",
    "            else:   \n",
    "                # Checks for the respective text of the morse code in the dictionary using the morse code value. \n",
    "                decypherText += list(MorseCode_Dict.keys())[list(MorseCode_Dict \n",
    "                .values()).index(Temp)] \n",
    "                Temp = '' \n",
    "  \n",
    "    return decypherText "
   ]
  },
  {
   "cell_type": "code",
   "execution_count": 3,
   "metadata": {},
   "outputs": [
    {
     "name": "stdout",
     "output_type": "stream",
     "text": [
      "--. .. - .... ..- -...  .--. .-. --- --. .-. .- -- \n",
      "GITHUB PROGRAM \n"
     ]
    }
   ],
   "source": [
    "# Main function to execute the program\n",
    "def main(): \n",
    "    text = \"GITHUB PROGRAM\"\n",
    "    result = encode(text.upper()) \n",
    "    print (result) \n",
    "  \n",
    "    text = \"--. .. - .... ..- -...  .--. .-. --- --. .-. .- -- \"\n",
    "    result = decode(text) \n",
    "    print (result) \n",
    "\n",
    "# Main function execution!   \n",
    "if __name__ == '__main__': \n",
    "    main() "
   ]
  },
  {
   "cell_type": "code",
   "execution_count": null,
   "metadata": {},
   "outputs": [],
   "source": []
  },
  {
   "cell_type": "code",
   "execution_count": null,
   "metadata": {},
   "outputs": [],
   "source": []
  },
  {
   "cell_type": "code",
   "execution_count": null,
   "metadata": {},
   "outputs": [],
   "source": []
  },
  {
   "cell_type": "code",
   "execution_count": null,
   "metadata": {},
   "outputs": [],
   "source": []
  },
  {
   "cell_type": "code",
   "execution_count": null,
   "metadata": {},
   "outputs": [],
   "source": []
  }
 ],
 "metadata": {
  "kernelspec": {
   "display_name": "Python 3",
   "language": "python",
   "name": "python3"
  },
  "language_info": {
   "codemirror_mode": {
    "name": "ipython",
    "version": 3
   },
   "file_extension": ".py",
   "mimetype": "text/x-python",
   "name": "python",
   "nbconvert_exporter": "python",
   "pygments_lexer": "ipython3",
   "version": "3.7.2"
  }
 },
 "nbformat": 4,
 "nbformat_minor": 2
}
